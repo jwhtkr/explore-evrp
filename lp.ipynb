{
 "cells": [
  {
   "cell_type": "code",
   "execution_count": 47,
   "metadata": {},
   "outputs": [
    {
     "name": "stdout",
     "output_type": "stream",
     "text": [
      "Iteration 0:\n",
      "\t2.1526944234074676\n",
      "\t[1. 1. 1.]\n",
      "\t[-10.31434358   6.8761623    6.54034529  -1.97613056  -4.12413388]\n",
      "\t[]\n",
      "Iteration 1:\n",
      "\t7.7343510358454335\n",
      "\t[0.84006904 3.71147633 5.52088424]\n",
      "\t[-8.5092983  10.0370864   9.0942369  -3.05289216 -1.68531302]\n",
      "\t[]\n",
      "Iteration 2:\n",
      "\t16.456655698881285\n",
      "\t[ 1.9352031  10.72419893  9.86125672]\n",
      "\t[-11.26582408  11.37581802  15.29483706  -5.66520009   2.62757857]\n",
      "\t[]\n",
      "Iteration 3:\n",
      "\t18.5973512783187\n",
      "\t[ 2.45061432  8.22182032 13.4035896 ]\n",
      "\t[-5.81098282 14.06665092 12.60216938 -6.5807796   2.59622073]\n",
      "\t[]\n",
      "Iteration 4:\n",
      "\t18.205536753725767\n",
      "\t[ 2.45998136  8.06892651 13.06403962]\n",
      "\t[-5.99238437 13.8233772  12.46013602 -6.50300205  2.43463887]\n",
      "\t[]\n",
      "Iteration 5:\n",
      "\t18.205536752671563\n",
      "\t[ 2.45998136  8.06892651 13.06403961]\n",
      "\t[-5.99238437 13.8233772  12.46013602 -6.50300205  2.43463887]\n",
      "\t[]\n",
      " message: The algorithm terminated successfully and determined that the problem is infeasible.\n",
      " success: False\n",
      "  status: 2\n",
      "     fun: 18.205536752671563\n",
      "       x: [ 2.460e+00  8.069e+00  1.306e+01]\n",
      "     nit: 5\n"
     ]
    },
    {
     "name": "stderr",
     "output_type": "stream",
     "text": [
      "/tmp/ipykernel_453441/2419071826.py:16: DeprecationWarning: `method='interior-point'` is deprecated and will be removed in SciPy 1.11.0. Please use one of the HiGHS solvers (e.g. `method='highs'`) in new code.\n",
      "  print(opt.linprog(c, A_ub=A, b_ub=b, method=\"interior-point\", callback=callback))\n"
     ]
    }
   ],
   "source": [
    "import numpy as np\n",
    "import scipy.optimize as opt\n",
    "\n",
    "m = 5\n",
    "n = 3\n",
    "\n",
    "A = np.random.uniform(-1, 1, size=(m, n))\n",
    "b = np.random.uniform(-10, 10, size=(m,))\n",
    "c = np.random.uniform(0, 1, size=(n,))\n",
    "C = np.diag(c)\n",
    "\n",
    "def callback(res: opt.OptimizeResult):\n",
    "    print(f\"Iteration {res.nit}:\", res.fun, res.x, res.slack, res.con, sep=\"\\n\\t\")\n",
    "    \n",
    "\n",
    "print(opt.linprog(c, A_ub=A, b_ub=b, method=\"interior-point\", callback=callback))"
   ]
  }
 ],
 "metadata": {
  "kernelspec": {
   "display_name": "venv",
   "language": "python",
   "name": "python3"
  },
  "language_info": {
   "codemirror_mode": {
    "name": "ipython",
    "version": 3
   },
   "file_extension": ".py",
   "mimetype": "text/x-python",
   "name": "python",
   "nbconvert_exporter": "python",
   "pygments_lexer": "ipython3",
   "version": "3.11.5"
  },
  "orig_nbformat": 4
 },
 "nbformat": 4,
 "nbformat_minor": 2
}
